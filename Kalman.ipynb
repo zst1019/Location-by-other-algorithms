{
 "cells": [
  {
   "cell_type": "code",
   "execution_count": 1,
   "metadata": {
    "collapsed": true
   },
   "outputs": [],
   "source": [
    "import numpy as np\n",
    "import scipy.io as scio\n",
    "import time"
   ]
  },
  {
   "cell_type": "code",
   "execution_count": 2,
   "metadata": {
    "collapsed": true
   },
   "outputs": [],
   "source": [
    "#导入数据\n",
    "offline_data = scio.loadmat('offline_data_random.mat')\n",
    "online_data  = scio.loadmat('online_data.mat')\n",
    "offline_location,offline_rss = offline_data['offline_location'],offline_data['offline_rss']\n",
    "trace,rss = online_data['trace'],online_data['rss']"
   ]
  },
  {
   "cell_type": "code",
   "execution_count": 3,
   "metadata": {
    "collapsed": true
   },
   "outputs": [],
   "source": [
    "del offline_data\n",
    "del online_data"
   ]
  },
  {
   "cell_type": "code",
   "execution_count": 4,
   "metadata": {
    "collapsed": true
   },
   "outputs": [],
   "source": [
    "#定义定位准确度函数\n",
    "def accuracy(predictions,labels):\n",
    "    return np.mean(np.sqrt(np.sum((predictions - labels)**2,1)))"
   ]
  },
  {
   "cell_type": "code",
   "execution_count": 5,
   "metadata": {
    "collapsed": false
   },
   "outputs": [
    {
     "name": "stdout",
     "output_type": "stream",
     "text": [
      "knn regression accuracy:  2.24887259196 m\n"
     ]
    }
   ],
   "source": [
    "#knn回归算法\n",
    "from sklearn import neighbors\n",
    "knn_req = neighbors.KNeighborsRegressor(40,weights='uniform',metric='euclidean')\n",
    "knn_req.fit(offline_rss,offline_location)\n",
    "knn_predictions = knn_req.predict(rss)\n",
    "acc = accuracy(knn_predictions,trace)\n",
    "print (\"knn regression accuracy: \",acc/100,\"m\")\n"
   ]
  },
  {
   "cell_type": "raw",
   "metadata": {},
   "source": [
    "对KNN回归定位结果进行卡尔曼滤波"
   ]
  },
  {
   "cell_type": "code",
   "execution_count": 6,
   "metadata": {
    "collapsed": true
   },
   "outputs": [],
   "source": [
    "from filterpy.kalman import KalmanFilter\n",
    "from scipy.linalg import block_diag\n",
    "from filterpy.common import Q_discrete_white_noise"
   ]
  },
  {
   "cell_type": "code",
   "execution_count": 9,
   "metadata": {
    "collapsed": false
   },
   "outputs": [
    {
     "name": "stdout",
     "output_type": "stream",
     "text": [
      "Kalman filter accuracy: 1.7332668272512122\n"
     ]
    }
   ],
   "source": [
    "def kalman_tracker():\n",
    "    tracker = KalmanFilter(dim_x=4, dim_z=2)\n",
    "    dt = 1.\n",
    "    #状态转移矩阵\n",
    "    tracker.F = np.array([[1, dt, 0, 0],\n",
    "                         [0,1, 0, 0],\n",
    "                         [0, 0, 1, dt],\n",
    "                         [0, 0, 0, 1]])\n",
    "    \n",
    "    q = Q_discrete_white_noise(dim=2, dt=dt, var=0.001)\n",
    "    tracker.Q = np.eye(4) * 0.01\n",
    "    tracker.H = np.array([[1,0,0,0],\n",
    "                         [0,0,1,0]])\n",
    "    \n",
    "    tracker.R = np.array([[4.,0],\n",
    "                        [0, 4.]])\n",
    "    \n",
    "    tracker.x = np.array([[7.4, 0, 3.3, 0]]).T\n",
    "    tracker.P = np.zeros([4,4])\n",
    "    return tracker\n",
    "tracker = kalman_tracker()\n",
    "zs = np.array([np.array([i]).T / 100. for i in knn_predictions])\n",
    "mu,cov,_, _ = tracker.batch_filter(zs)\n",
    "knn_kf_predictions = mu[:, [0,2], :].reshape(10000,2)\n",
    "acc = accuracy(knn_kf_predictions, trace/100.)\n",
    "print(\"Kalman filter accuracy: {0}\".format(acc))"
   ]
  },
  {
   "cell_type": "code",
   "execution_count": 12,
   "metadata": {
    "collapsed": false
   },
   "outputs": [
    {
     "data": {
      "image/png": "[encoded data removed]",
      "text/plain": [
       "<matplotlib.figure.Figure at 0x86dc860>"
      ]
     },
     "metadata": {},
     "output_type": "display_data"
    }
   ],
   "source": [
    "import matplotlib.pyplot as plt\n",
    "%matplotlib inline\n",
    "x_i = range(220, 280)\n",
    "tr, = plt.plot(trace[x_i, 0]/100., trace[x_i, 1] /100., 'k-', linewidth=3)\n",
    "#pf, = plt.plot(knn_pf_predictions[x_i, 0], knn_pf_predictions[x_i, 1], 'r-')\n",
    "kf, = plt.plot(knn_kf_predictions[x_i, 0], knn_kf_predictions[x_i, 1], 'b-')\n",
    "knn_ = plt.scatter(knn_predictions[x_i, 0] / 100., knn_predictions[x_i, 1] / 100.)\n",
    "\n",
    "plt.xlabel('x (m)')\n",
    "plt.ylabel('y (m)')\n",
    "plt.legend([tr,  kf, knn_], [\"real trace\",  \"kf\", \"knn\"])\n",
    "plt.show()"
   ]
  }
 ],
 "metadata": {
  "kernelspec": {
   "display_name": "Python 3",
   "language": "python",
   "name": "python3"
  },
  "language_info": {
   "codemirror_mode": {
    "name": "ipython",
    "version": 3
   },
   "file_extension": ".py",
   "mimetype": "text/x-python",
   "name": "python",
   "nbconvert_exporter": "python",
   "pygments_lexer": "ipython3",
   "version": "3.6.0"
  }
 },
 "nbformat": 4,
 "nbformat_minor": 2
}
