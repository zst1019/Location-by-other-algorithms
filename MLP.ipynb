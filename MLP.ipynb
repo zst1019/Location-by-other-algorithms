{
 "cells": [
  {
   "cell_type": "code",
   "execution_count": 11,
   "metadata": {
    "collapsed": true
   },
   "outputs": [],
   "source": [
    "import numpy as np\n",
    "import scipy.io as scio\n",
    "import time"
   ]
  },
  {
   "cell_type": "code",
   "execution_count": 12,
   "metadata": {
    "collapsed": true
   },
   "outputs": [],
   "source": [
    "offline_data = scio.loadmat('offline_data_random.mat')\n",
    "online_data  = scio.loadmat('online_data.mat')\n",
    "offline_location,offline_rss = offline_data['offline_location'],offline_data['offline_rss']\n",
    "trace,rss = online_data['trace'],online_data['rss']"
   ]
  },
  {
   "cell_type": "code",
   "execution_count": 13,
   "metadata": {
    "collapsed": true
   },
   "outputs": [],
   "source": [
    "del offline_data\n",
    "del online_data\n",
    "\n",
    "def accuracy(predictions,labels):\n",
    "    return np.mean(np.sqrt(np.sum((predictions - labels)**2,1)))"
   ]
  },
  {
   "cell_type": "code",
   "execution_count": 14,
   "metadata": {
    "collapsed": false
   },
   "outputs": [
    {
     "name": "stdout",
     "output_type": "stream",
     "text": [
      "MLPR TrainingTime: 13.05563596923136 s\n",
      "MLPR TestingTime: 0.01840819757168788 S\n",
      "MLPR accuracy: 2.5104762206054407 S\n"
     ]
    }
   ],
   "source": [
    "from sklearn.neural_network import MLPRegressor\n",
    "start = time.clock()\n",
    "clf = MLPRegressor(hidden_layer_sizes=(100,100))\n",
    "clf.fit(offline_rss, offline_location)\n",
    "end = time.clock()\n",
    "print (\"MLPR TrainingTime: {0} s\".format(end - start))\n",
    "\n",
    "start = time.clock()\n",
    "predictions = clf.predict(rss)\n",
    "end = time.clock()\n",
    "print (\"MLPR TestingTime: {0} S\".format(end - start))\n",
    "\n",
    "acc = accuracy(predictions,trace)\n",
    "print (\"MLPR accuracy: {0} S\".format(acc/100))"
   ]
  }
 ],
 "metadata": {
  "kernelspec": {
   "display_name": "Python 3",
   "language": "python",
   "name": "python3"
  },
  "language_info": {
   "codemirror_mode": {
    "name": "ipython",
    "version": 3
   },
   "file_extension": ".py",
   "mimetype": "text/x-python",
   "name": "python",
   "nbconvert_exporter": "python",
   "pygments_lexer": "ipython3",
   "version": "3.6.0"
  }
 },
 "nbformat": 4,
 "nbformat_minor": 2
}
