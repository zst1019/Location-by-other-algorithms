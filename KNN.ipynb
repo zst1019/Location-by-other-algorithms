{
 "cells": [
  {
   "cell_type": "code",
   "execution_count": 50,
   "metadata": {
    "collapsed": true
   },
   "outputs": [],
   "source": [
    "import numpy as np\n",
    "import scipy.io as scio"
   ]
  },
  {
   "cell_type": "code",
   "execution_count": 51,
   "metadata": {
    "collapsed": true
   },
   "outputs": [],
   "source": [
    "offline_data = scio.loadmat(\"offline_data_random.mat\")\n",
    "online_data = scio.loadmat(\"online_data.mat\")"
   ]
  },
  {
   "cell_type": "code",
   "execution_count": 52,
   "metadata": {
    "collapsed": false
   },
   "outputs": [],
   "source": [
    "offline_location, offline_rss = offline_data[\"offline_location\"][0:1000,:],offline_data[\"offline_rss\"][0:1000,:]\n",
    "trace, rss = online_data[\"trace\"][0:1000,:],online_data[\"rss\"][0:1000,:]\n",
    "#offline_location, offline_rss = offline_data[\"offline_location\"],offline_data[\"offline_rss\"]\n",
    "#trace, rss = online_data[\"trace\"][0:1000,:], online_data[\"rss\"][0:1000,:]"
   ]
  },
  {
   "cell_type": "code",
   "execution_count": 53,
   "metadata": {
    "collapsed": true
   },
   "outputs": [],
   "source": [
    "del offline_data\n",
    "del online_data"
   ]
  },
  {
   "cell_type": "code",
   "execution_count": 54,
   "metadata": {
    "collapsed": true
   },
   "outputs": [],
   "source": [
    "def accuracy(predictions, labels):\n",
    "    return np.mean(np.sqrt(np.sum((predictions - labels)**2,1)))"
   ]
  },
  {
   "cell_type": "code",
   "execution_count": 55,
   "metadata": {
    "collapsed": false
   },
   "outputs": [
    {
     "name": "stdout",
     "output_type": "stream",
     "text": [
      "knn_reg accuracy: 2.556849148835346 m\n"
     ]
    }
   ],
   "source": [
    "from sklearn import neighbors\n",
    "knn_reg = neighbors.KNeighborsRegressor(40,weights='uniform',metric=\"euclidean\")\n",
    "predictions = knn_reg.fit(offline_rss, offline_location).predict(rss)\n",
    "acc = accuracy(predictions, trace)\n",
    "print(\"knn_reg accuracy: {0}\".format(acc/100),\"m\")"
   ]
  },
  {
   "cell_type": "raw",
   "metadata": {},
   "source": [
    "KNN分类"
   ]
  },
  {
   "cell_type": "code",
   "execution_count": 56,
   "metadata": {
    "collapsed": false
   },
   "outputs": [
    {
     "name": "stdout",
     "output_type": "stream",
     "text": [
      "knn_cls accuracy:  3.39323527601 m\n"
     ]
    }
   ],
   "source": [
    "labels = np.round(offline_location[:,0]/100.0)*100 + np.round(offline_location[:,1]/100)\n",
    "knn_cls = neighbors.KNeighborsClassifier(n_neighbors=40, weights = \"uniform\",metric=\"euclidean\")\n",
    "predict_labels = knn_cls.fit(offline_rss, labels).predict(rss)\n",
    "x = np.floor(predict_labels / 100.0)\n",
    "y = np.floor(predict_labels - x * 100)\n",
    "predictions = np.column_stack((x,y)) * 100\n",
    "acc = accuracy(predictions, trace)\n",
    "print(\"knn_cls accuracy: \",(acc/100),\"m\")"
   ]
  },
  {
   "cell_type": "raw",
   "metadata": {},
   "source": [
    "交叉验证， 在knn李选择最优参数K,\n",
    "速度太慢"
   ]
  },
  {
   "cell_type": "code",
   "execution_count": 71,
   "metadata": {
    "collapsed": false
   },
   "outputs": [],
   "source": [
    "from sklearn.model_selection import GridSearchCV\n",
    "parameters = {\"n_neighbors\":range(1,50)}\n",
    "knn_reg = neighbors.KNeighborsRegressor(weights=\"uniform\", metric=\"euclidean\")\n",
    "clf = GridSearchCV(knn_reg, parameters)\n",
    "clf.fit(offline_rss, offline_location)\n",
    "scores = clf.cv_results_[\"mean_test_score\"]\n",
    "k = np.argmax(scores)"
   ]
  },
  {
   "cell_type": "code",
   "execution_count": 72,
   "metadata": {
    "collapsed": false
   },
   "outputs": [
    {
     "name": "stderr",
     "output_type": "stream",
     "text": [
      "ERROR: Line magic function `%matplomatplotlibotlibinline` not found.\n"
     ]
    },
    {
     "data": {
      "image/png": "[encoded data removed]",
      "text/plain": [
       "<matplotlib.figure.Figure at 0x78e1278>"
      ]
     },
     "metadata": {},
     "output_type": "display_data"
    }
   ],
   "source": [
    "%matplomatplotlibotlibinline\n",
    "plt.plot(range(1,scores.shape[0] + 1), scores, '-o', linewidth=2.0)\n",
    "plt.xlabel(\"k\")\n",
    "plt.ylabel(\"scores\")\n",
    "plt.grid(True)\n",
    "plt.show()"
   ]
  }
 ],
 "metadata": {
  "kernelspec": {
   "display_name": "Python 3",
   "language": "python",
   "name": "python3"
  },
  "language_info": {
   "codemirror_mode": {
    "name": "ipython",
    "version": 3
   },
   "file_extension": ".py",
   "mimetype": "text/x-python",
   "name": "python",
   "nbconvert_exporter": "python",
   "pygments_lexer": "ipython3",
   "version": "3.6.0"
  }
 },
 "nbformat": 4,
 "nbformat_minor": 2
}
