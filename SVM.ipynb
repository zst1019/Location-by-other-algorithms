{
 "cells": [
  {
   "cell_type": "code",
   "execution_count": 1,
   "metadata": {
    "collapsed": true
   },
   "outputs": [],
   "source": [
    "import numpy as np\n",
    "import scipy.io as scio\n",
    "import time"
   ]
  },
  {
   "cell_type": "code",
   "execution_count": 2,
   "metadata": {
    "collapsed": true
   },
   "outputs": [],
   "source": [
    "offline_data = scio.loadmat('offline_data_random.mat')\n",
    "online_data  = scio.loadmat('online_data.mat')\n",
    "offline_location,offline_rss = offline_data['offline_location'],offline_data['offline_rss']\n",
    "trace,rss = online_data['trace'],online_data['rss']"
   ]
  },
  {
   "cell_type": "code",
   "execution_count": 3,
   "metadata": {
    "collapsed": true
   },
   "outputs": [],
   "source": [
    "del offline_data\n",
    "del online_data"
   ]
  },
  {
   "cell_type": "code",
   "execution_count": 4,
   "metadata": {
    "collapsed": true
   },
   "outputs": [],
   "source": [
    "def accuracy(predictions,labels):\n",
    "    return np.mean(np.sqrt(np.sum((predictions - labels)**2,1)))"
   ]
  },
  {
   "cell_type": "raw",
   "metadata": {},
   "source": [
    "使用支持向量机进行分类处理"
   ]
  },
  {
   "cell_type": "code",
   "execution_count": 7,
   "metadata": {
    "collapsed": false
   },
   "outputs": [
    {
     "name": "stdout",
     "output_type": "stream",
     "text": [
      "SVC accuracy:  2.92064752207 m\n"
     ]
    }
   ],
   "source": [
    "from sklearn import svm\n",
    "labels = np.round(offline_location[:,0]/100.0) * 100 + np.round(offline_location[:,1]/100.0)\n",
    "clf_svc = svm.SVC(C=1000, tol=0.01, gamma=0.01)\n",
    "clf_svc.fit(offline_rss,labels)\n",
    "predict_labels = clf_svc.predict(rss)\n",
    "x = np.floor(predict_labels / 100.)\n",
    "y = np.floor(predict_labels - x * 100)\n",
    "predictions = np.column_stack((x,y)) *100\n",
    "acc = accuracy(predictions,trace)\n",
    "print(\"SVC accuracy: \",acc/100, \"m\")"
   ]
  },
  {
   "cell_type": "code",
   "execution_count": null,
   "metadata": {
    "collapsed": true
   },
   "outputs": [],
   "source": [
    "使用支持向量机进行回归处理"
   ]
  },
  {
   "cell_type": "code",
   "execution_count": 8,
   "metadata": {
    "collapsed": false
   },
   "outputs": [
    {
     "name": "stdout",
     "output_type": "stream",
     "text": [
      "SVR accuracy:  2.28370413055 m\n"
     ]
    }
   ],
   "source": [
    "from sklearn import  svm\n",
    "clf_x = svm.SVR(C=1000,gamma=0.01)\n",
    "clf_y = svm.SVR(C=1000,gamma=0.01)\n",
    "clf_x.fit(offline_rss,offline_location[:,0])\n",
    "clf_y.fit(offline_rss,offline_location[:,1])\n",
    "x = clf_x.predict(rss)\n",
    "y = clf_y.predict(rss)\n",
    "predictions = np.column_stack((x,y))\n",
    "acc = accuracy(predictions,trace)\n",
    "print (\"SVR accuracy: \", acc/100, \"m\")"
   ]
  }
 ],
 "metadata": {
  "kernelspec": {
   "display_name": "Python 3",
   "language": "python",
   "name": "python3"
  },
  "language_info": {
   "codemirror_mode": {
    "name": "ipython",
    "version": 3
   },
   "file_extension": ".py",
   "mimetype": "text/x-python",
   "name": "python",
   "nbconvert_exporter": "python",
   "pygments_lexer": "ipython3",
   "version": "3.6.0"
  }
 },
 "nbformat": 4,
 "nbformat_minor": 2
}
